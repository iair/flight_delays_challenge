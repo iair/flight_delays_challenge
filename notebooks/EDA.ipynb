{
 "cells": [
  {
   "cell_type": "code",
   "execution_count": 1,
   "id": "a33f1903-b3a6-438f-a78d-41b393b16b48",
   "metadata": {},
   "outputs": [],
   "source": [
    "import os\n",
    "import sys\n",
    "from datetime import datetime, timedelta\n",
    "import pandas as pd\n",
    "# Set some Pandas options\n",
    "pd.set_option('display.notebook_repr_html', True)\n",
    "pd.set_option('display.max_columns', 20)\n",
    "pd.set_option('display.max_rows', 50)\n",
    "import numpy as np\n",
    "import statsmodels as sm\n",
    "from scipy.stats import chi2\n",
    "import matplotlib.pyplot as plt\n",
    "import matplotlib_inline.backend_inline\n",
    "%config InlineBackend.figure_formats = ['svg']\n",
    "%matplotlib inline\n",
    "from sklearn import preprocessing"
   ]
  },
  {
   "cell_type": "code",
   "execution_count": 2,
   "id": "a0f1247e-ed85-424c-b795-160dfc7375c2",
   "metadata": {},
   "outputs": [],
   "source": [
    "def get_hist(var1,var2,name_image,values_range=[0,1],nbins=20,normed=True):\n",
    "    \n",
    "    common_params = dict(bins=nbins,range=values_range,normed=normed)\n",
    "    plt.subplots_adjust(hspace=.8)\n",
    "    plt.subplot(311)\n",
    "    plt.title('Default')\n",
    "    #plt.hist(df.popularity, **common_params)\n",
    "    plt.hist(var1, **common_params)\n",
    "    plt.hist(var2, **common_params)\n",
    "    plt.subplot(312)\n",
    "    plt.title('Skinny shift - 2 at a time')\n",
    "    plt.hist((var1, var2), **common_params)\n",
    "    plt.subplot(313)\n",
    "    common_params['histtype'] = 'step'\n",
    "    plt.title('With steps')\n",
    "    #plt.hist(df.popularity, **common_params)\n",
    "    plt.hist(var1, **common_params)\n",
    "    plt.hist(var2, **common_params)\n",
    "\n",
    "    plt.savefig(name_image)\n",
    "    plt.show()"
   ]
  },
  {
   "cell_type": "code",
   "execution_count": 3,
   "id": "d69dabf3-0230-41e2-88a9-715d03178e71",
   "metadata": {},
   "outputs": [],
   "source": [
    "directory_path = os.path.abspath(os.path.join('..'))\n",
    "if directory_path not in sys.path:\n",
    "    sys.path.append(directory_path)"
   ]
  },
  {
   "cell_type": "code",
   "execution_count": 4,
   "id": "5c33452b-f90e-4237-bf36-2a1a05e1e592",
   "metadata": {},
   "outputs": [
    {
     "name": "stdout",
     "output_type": "stream",
     "text": [
      "(68206, 18)\n"
     ]
    },
    {
     "data": {
      "text/html": [
       "<div>\n",
       "<style scoped>\n",
       "    .dataframe tbody tr th:only-of-type {\n",
       "        vertical-align: middle;\n",
       "    }\n",
       "\n",
       "    .dataframe tbody tr th {\n",
       "        vertical-align: top;\n",
       "    }\n",
       "\n",
       "    .dataframe thead th {\n",
       "        text-align: right;\n",
       "    }\n",
       "</style>\n",
       "<table border=\"1\" class=\"dataframe\">\n",
       "  <thead>\n",
       "    <tr style=\"text-align: right;\">\n",
       "      <th></th>\n",
       "      <th>Fecha-I</th>\n",
       "      <th>Vlo-I</th>\n",
       "      <th>Ori-I</th>\n",
       "      <th>Des-I</th>\n",
       "      <th>Emp-I</th>\n",
       "      <th>Fecha-O</th>\n",
       "      <th>Vlo-O</th>\n",
       "      <th>Ori-O</th>\n",
       "      <th>Des-O</th>\n",
       "      <th>Emp-O</th>\n",
       "      <th>DIA</th>\n",
       "      <th>MES</th>\n",
       "      <th>AÑO</th>\n",
       "      <th>DIANOM</th>\n",
       "      <th>TIPOVUELO</th>\n",
       "      <th>OPERA</th>\n",
       "      <th>SIGLAORI</th>\n",
       "      <th>SIGLADES</th>\n",
       "    </tr>\n",
       "  </thead>\n",
       "  <tbody>\n",
       "    <tr>\n",
       "      <th>0</th>\n",
       "      <td>2017-01-01 23:30:00</td>\n",
       "      <td>226</td>\n",
       "      <td>SCEL</td>\n",
       "      <td>KMIA</td>\n",
       "      <td>AAL</td>\n",
       "      <td>2017-01-01 23:33:00</td>\n",
       "      <td>226</td>\n",
       "      <td>SCEL</td>\n",
       "      <td>KMIA</td>\n",
       "      <td>AAL</td>\n",
       "      <td>1</td>\n",
       "      <td>1</td>\n",
       "      <td>2017</td>\n",
       "      <td>Domingo</td>\n",
       "      <td>I</td>\n",
       "      <td>American Airlines</td>\n",
       "      <td>Santiago</td>\n",
       "      <td>Miami</td>\n",
       "    </tr>\n",
       "    <tr>\n",
       "      <th>1</th>\n",
       "      <td>2017-01-02 23:30:00</td>\n",
       "      <td>226</td>\n",
       "      <td>SCEL</td>\n",
       "      <td>KMIA</td>\n",
       "      <td>AAL</td>\n",
       "      <td>2017-01-02 23:39:00</td>\n",
       "      <td>226</td>\n",
       "      <td>SCEL</td>\n",
       "      <td>KMIA</td>\n",
       "      <td>AAL</td>\n",
       "      <td>2</td>\n",
       "      <td>1</td>\n",
       "      <td>2017</td>\n",
       "      <td>Lunes</td>\n",
       "      <td>I</td>\n",
       "      <td>American Airlines</td>\n",
       "      <td>Santiago</td>\n",
       "      <td>Miami</td>\n",
       "    </tr>\n",
       "    <tr>\n",
       "      <th>2</th>\n",
       "      <td>2017-01-03 23:30:00</td>\n",
       "      <td>226</td>\n",
       "      <td>SCEL</td>\n",
       "      <td>KMIA</td>\n",
       "      <td>AAL</td>\n",
       "      <td>2017-01-03 23:39:00</td>\n",
       "      <td>226</td>\n",
       "      <td>SCEL</td>\n",
       "      <td>KMIA</td>\n",
       "      <td>AAL</td>\n",
       "      <td>3</td>\n",
       "      <td>1</td>\n",
       "      <td>2017</td>\n",
       "      <td>Martes</td>\n",
       "      <td>I</td>\n",
       "      <td>American Airlines</td>\n",
       "      <td>Santiago</td>\n",
       "      <td>Miami</td>\n",
       "    </tr>\n",
       "    <tr>\n",
       "      <th>3</th>\n",
       "      <td>2017-01-04 23:30:00</td>\n",
       "      <td>226</td>\n",
       "      <td>SCEL</td>\n",
       "      <td>KMIA</td>\n",
       "      <td>AAL</td>\n",
       "      <td>2017-01-04 23:33:00</td>\n",
       "      <td>226</td>\n",
       "      <td>SCEL</td>\n",
       "      <td>KMIA</td>\n",
       "      <td>AAL</td>\n",
       "      <td>4</td>\n",
       "      <td>1</td>\n",
       "      <td>2017</td>\n",
       "      <td>Miercoles</td>\n",
       "      <td>I</td>\n",
       "      <td>American Airlines</td>\n",
       "      <td>Santiago</td>\n",
       "      <td>Miami</td>\n",
       "    </tr>\n",
       "    <tr>\n",
       "      <th>4</th>\n",
       "      <td>2017-01-05 23:30:00</td>\n",
       "      <td>226</td>\n",
       "      <td>SCEL</td>\n",
       "      <td>KMIA</td>\n",
       "      <td>AAL</td>\n",
       "      <td>2017-01-05 23:28:00</td>\n",
       "      <td>226</td>\n",
       "      <td>SCEL</td>\n",
       "      <td>KMIA</td>\n",
       "      <td>AAL</td>\n",
       "      <td>5</td>\n",
       "      <td>1</td>\n",
       "      <td>2017</td>\n",
       "      <td>Jueves</td>\n",
       "      <td>I</td>\n",
       "      <td>American Airlines</td>\n",
       "      <td>Santiago</td>\n",
       "      <td>Miami</td>\n",
       "    </tr>\n",
       "  </tbody>\n",
       "</table>\n",
       "</div>"
      ],
      "text/plain": [
       "               Fecha-I Vlo-I Ori-I Des-I Emp-I              Fecha-O Vlo-O  \\\n",
       "0  2017-01-01 23:30:00   226  SCEL  KMIA   AAL  2017-01-01 23:33:00   226   \n",
       "1  2017-01-02 23:30:00   226  SCEL  KMIA   AAL  2017-01-02 23:39:00   226   \n",
       "2  2017-01-03 23:30:00   226  SCEL  KMIA   AAL  2017-01-03 23:39:00   226   \n",
       "3  2017-01-04 23:30:00   226  SCEL  KMIA   AAL  2017-01-04 23:33:00   226   \n",
       "4  2017-01-05 23:30:00   226  SCEL  KMIA   AAL  2017-01-05 23:28:00   226   \n",
       "\n",
       "  Ori-O Des-O Emp-O  DIA  MES   AÑO     DIANOM TIPOVUELO              OPERA  \\\n",
       "0  SCEL  KMIA   AAL    1    1  2017    Domingo         I  American Airlines   \n",
       "1  SCEL  KMIA   AAL    2    1  2017      Lunes         I  American Airlines   \n",
       "2  SCEL  KMIA   AAL    3    1  2017     Martes         I  American Airlines   \n",
       "3  SCEL  KMIA   AAL    4    1  2017  Miercoles         I  American Airlines   \n",
       "4  SCEL  KMIA   AAL    5    1  2017     Jueves         I  American Airlines   \n",
       "\n",
       "   SIGLAORI SIGLADES  \n",
       "0  Santiago    Miami  \n",
       "1  Santiago    Miami  \n",
       "2  Santiago    Miami  \n",
       "3  Santiago    Miami  \n",
       "4  Santiago    Miami  "
      ]
     },
     "execution_count": 4,
     "metadata": {},
     "output_type": "execute_result"
    }
   ],
   "source": [
    "df = pd.read_csv('/Users/iairlinker/Documents/repos/flight_delays_challenge/data/raw/dataset_SCL.csv',low_memory=False)\n",
    "print(df.shape)\n",
    "df.head()"
   ]
  },
  {
   "cell_type": "code",
   "execution_count": 5,
   "id": "0e010ee2-b06e-4314-84a5-5cc82ac40979",
   "metadata": {},
   "outputs": [
    {
     "data": {
      "text/plain": [
       "Fecha-I      object\n",
       "Vlo-I        object\n",
       "Ori-I        object\n",
       "Des-I        object\n",
       "Emp-I        object\n",
       "Fecha-O      object\n",
       "Vlo-O        object\n",
       "Ori-O        object\n",
       "Des-O        object\n",
       "Emp-O        object\n",
       "DIA           int64\n",
       "MES           int64\n",
       "AÑO           int64\n",
       "DIANOM       object\n",
       "TIPOVUELO    object\n",
       "OPERA        object\n",
       "SIGLAORI     object\n",
       "SIGLADES     object\n",
       "dtype: object"
      ]
     },
     "execution_count": 5,
     "metadata": {},
     "output_type": "execute_result"
    }
   ],
   "source": [
    "df.dtypes"
   ]
  },
  {
   "cell_type": "markdown",
   "id": "1aa95f39-abf4-4aa8-9905-462b0f71ada7",
   "metadata": {},
   "source": [
    "### Generate the synthetic features asked in the instructions"
   ]
  },
  {
   "cell_type": "code",
   "execution_count": 6,
   "id": "48a18451-ab8b-43b2-a7b3-779a793f5052",
   "metadata": {},
   "outputs": [],
   "source": [
    "df['Fecha-O'] = pd.to_datetime(df['Fecha-O'])\n",
    "df['Fecha-I'] = pd.to_datetime(df['Fecha-I'])\n",
    "ind = df[df['Fecha-O']>df['Fecha-I']].index\n",
    "df.loc[ind,'min_diff'] = (df.loc[ind]['Fecha-O']-df.loc[ind]['Fecha-I']).apply(lambda x: (x.seconds)/60)\n",
    "ind = df[df['Fecha-I']>df['Fecha-O']].index\n",
    "df.loc[ind,'min_diff'] = (df.loc[ind]['Fecha-I']-df.loc[ind]['Fecha-O']).apply(lambda x: -1* (x.seconds)/60)\n",
    "df['delay'] = df.min_diff.apply(lambda x: 1 if (x>15) else 0)"
   ]
  },
  {
   "cell_type": "code",
   "execution_count": 7,
   "id": "2c0bdddb-1b41-428f-8e48-a13988ec681a",
   "metadata": {},
   "outputs": [],
   "source": [
    "def get_period_day(x):\n",
    "    if((x>=5) & (x<12)):\n",
    "        return 'morning'\n",
    "    elif((x>=12) & (x<19)):\n",
    "        return 'afternoon'\n",
    "    elif((x>=19) or (x<5)):\n",
    "        return 'night'\n",
    "df['period_day'] = df['Fecha-I'].apply(lambda x : get_period_day(x.hour))"
   ]
  },
  {
   "cell_type": "code",
   "execution_count": 8,
   "id": "e363145a-beab-4222-a737-8cbb95931da2",
   "metadata": {},
   "outputs": [],
   "source": [
    "def is_high_season(x):\n",
    "    if( (x <= datetime(2017, 3, 3).date()) or  (x >= datetime(2017, 12, 15).date())):\n",
    "        return 1\n",
    "    elif( (x >= datetime(2017, 7, 15).date()) or  (x >= datetime(2017, 7, 31).date())):\n",
    "        return 1\n",
    "    elif( (x >= datetime(2017, 9, 11).date()) or  (x >= datetime(2017, 9, 30).date())):\n",
    "        return 1\n",
    "    else:\n",
    "        return 0\n",
    "    \n",
    "df['high_season'] = df['Fecha-I'].apply(lambda x : is_high_season(x.date()))"
   ]
  },
  {
   "cell_type": "markdown",
   "id": "45745873-3220-48e9-a41c-608611b1bdf2",
   "metadata": {},
   "source": [
    "### Check airports and external data aggregation\n",
    "\n",
    "#### Chequeamos los aeropuertos de salida y entrada\n",
    "\n",
    "First, we check how many departure airports I have, how many arrivals and to understand the number of possible combinations between them, which will allow me to have an idea of the complexity that this variable will add and design strategies to address it.\n",
    "\n",
    "#### We added the international airport database\n",
    "\n",
    "Then, we agreggate the data from the Global Airport database which will give me the name of the airport, country where is located, the latitud and longitud for each airport. This variables will give me the chance to create some new features like distance between origin and destiny and , if i had time, get the wather in the airport for each flyght.\n"
   ]
  },
  {
   "cell_type": "code",
   "execution_count": 9,
   "id": "2e36d147-fbc2-44cd-8074-00f5f70b9252",
   "metadata": {},
   "outputs": [
    {
     "data": {
      "text/plain": [
       "64"
      ]
     },
     "execution_count": 9,
     "metadata": {},
     "output_type": "execute_result"
    }
   ],
   "source": [
    "len(df['Des-I'].unique())"
   ]
  },
  {
   "cell_type": "code",
   "execution_count": 10,
   "id": "f7b94e95-8475-40ae-8c81-b7d7bc463139",
   "metadata": {},
   "outputs": [
    {
     "data": {
      "text/plain": [
       "False"
      ]
     },
     "execution_count": 10,
     "metadata": {},
     "output_type": "execute_result"
    }
   ],
   "source": [
    "'SCEL' in df['Des-I'].unique()"
   ]
  },
  {
   "cell_type": "code",
   "execution_count": 11,
   "id": "35f507ba-c1c5-4c43-80a0-317a65f74daf",
   "metadata": {},
   "outputs": [
    {
     "data": {
      "text/plain": [
       "array(['SCEL'], dtype=object)"
      ]
     },
     "execution_count": 11,
     "metadata": {},
     "output_type": "execute_result"
    }
   ],
   "source": [
    "df['Ori-I'].unique()"
   ]
  },
  {
   "cell_type": "markdown",
   "id": "da1cd331-b852-4334-b4a2-aa76e4e86e6e",
   "metadata": {},
   "source": [
    "We can see that all the flights depart from the Arturo Merino Benitez Airport in Santiago, Chile and arrive at 64 different airports. This limits the complexity of the problem, since you only have to understand the incidence of 64 possible combinations"
   ]
  },
  {
   "cell_type": "code",
   "execution_count": 12,
   "id": "694eb59b-c8d9-4d23-9c0e-3d647166c48d",
   "metadata": {},
   "outputs": [
    {
     "name": "stdout",
     "output_type": "stream",
     "text": [
      "(9299, 16)\n"
     ]
    },
    {
     "data": {
      "text/html": [
       "<div>\n",
       "<style scoped>\n",
       "    .dataframe tbody tr th:only-of-type {\n",
       "        vertical-align: middle;\n",
       "    }\n",
       "\n",
       "    .dataframe tbody tr th {\n",
       "        vertical-align: top;\n",
       "    }\n",
       "\n",
       "    .dataframe thead th {\n",
       "        text-align: right;\n",
       "    }\n",
       "</style>\n",
       "<table border=\"1\" class=\"dataframe\">\n",
       "  <thead>\n",
       "    <tr style=\"text-align: right;\">\n",
       "      <th></th>\n",
       "      <th>AYGA</th>\n",
       "      <th>GKA</th>\n",
       "      <th>GOROKA</th>\n",
       "      <th>GOROKA.1</th>\n",
       "      <th>PAPUA NEW GUINEA</th>\n",
       "      <th>006</th>\n",
       "      <th>004</th>\n",
       "      <th>054</th>\n",
       "      <th>S</th>\n",
       "      <th>145</th>\n",
       "      <th>023</th>\n",
       "      <th>030</th>\n",
       "      <th>E</th>\n",
       "      <th>01610</th>\n",
       "      <th>-6.082</th>\n",
       "      <th>145.392</th>\n",
       "    </tr>\n",
       "  </thead>\n",
       "  <tbody>\n",
       "    <tr>\n",
       "      <th>0</th>\n",
       "      <td>AYLA</td>\n",
       "      <td>LAE</td>\n",
       "      <td>NaN</td>\n",
       "      <td>LAE</td>\n",
       "      <td>PAPUA NEW GUINEA</td>\n",
       "      <td>0</td>\n",
       "      <td>0</td>\n",
       "      <td>0</td>\n",
       "      <td>U</td>\n",
       "      <td>0</td>\n",
       "      <td>0</td>\n",
       "      <td>0</td>\n",
       "      <td>U</td>\n",
       "      <td>0</td>\n",
       "      <td>0.000</td>\n",
       "      <td>0.000</td>\n",
       "    </tr>\n",
       "    <tr>\n",
       "      <th>1</th>\n",
       "      <td>AYMD</td>\n",
       "      <td>MAG</td>\n",
       "      <td>MADANG</td>\n",
       "      <td>MADANG</td>\n",
       "      <td>PAPUA NEW GUINEA</td>\n",
       "      <td>5</td>\n",
       "      <td>12</td>\n",
       "      <td>25</td>\n",
       "      <td>S</td>\n",
       "      <td>145</td>\n",
       "      <td>47</td>\n",
       "      <td>19</td>\n",
       "      <td>E</td>\n",
       "      <td>7</td>\n",
       "      <td>-5.207</td>\n",
       "      <td>145.789</td>\n",
       "    </tr>\n",
       "  </tbody>\n",
       "</table>\n",
       "</div>"
      ],
      "text/plain": [
       "   AYGA  GKA  GOROKA GOROKA.1  PAPUA NEW GUINEA  006  004  054  S  145  023  \\\n",
       "0  AYLA  LAE     NaN      LAE  PAPUA NEW GUINEA    0    0    0  U    0    0   \n",
       "1  AYMD  MAG  MADANG   MADANG  PAPUA NEW GUINEA    5   12   25  S  145   47   \n",
       "\n",
       "   030  E  01610  -6.082  145.392  \n",
       "0    0  U      0   0.000    0.000  \n",
       "1   19  E      7  -5.207  145.789  "
      ]
     },
     "execution_count": 12,
     "metadata": {},
     "output_type": "execute_result"
    }
   ],
   "source": [
    "airports = pd.read_csv('/Users/iairlinker/Documents/repos/flight_delays_challenge/data/external/GlobalAirportDatabase.txt',sep=':')\n",
    "print(airports.shape)\n",
    "airports.head(2)"
   ]
  },
  {
   "cell_type": "markdown",
   "id": "7a067f65-1687-41b2-89dd-cfb64f564425",
   "metadata": {},
   "source": [
    "We check that all the origin and destination codes are in the airport database, and if this is not the case, we will look for mechanisms to leave the column that has the ICAO codes approved between both dataframes"
   ]
  },
  {
   "cell_type": "code",
   "execution_count": 13,
   "id": "25a7448c-2962-48d9-b50e-648be528044f",
   "metadata": {},
   "outputs": [
    {
     "name": "stdout",
     "output_type": "stream",
     "text": [
      "SAEZ\n",
      "SPJC\n",
      "SCNT\n",
      "SCQP\n",
      "SCAT\n",
      "SCPQ\n",
      "SEQM\n"
     ]
    }
   ],
   "source": [
    "for element in df['Des-O'].unique():\n",
    "    if(element not in airports.AYGA.unique()):\n",
    "        print(element)"
   ]
  },
  {
   "cell_type": "code",
   "execution_count": 14,
   "id": "41535da0-72c5-4908-8aa3-64da64f8e3f2",
   "metadata": {},
   "outputs": [
    {
     "data": {
      "text/html": [
       "<div>\n",
       "<style scoped>\n",
       "    .dataframe tbody tr th:only-of-type {\n",
       "        vertical-align: middle;\n",
       "    }\n",
       "\n",
       "    .dataframe tbody tr th {\n",
       "        vertical-align: top;\n",
       "    }\n",
       "\n",
       "    .dataframe thead th {\n",
       "        text-align: right;\n",
       "    }\n",
       "</style>\n",
       "<table border=\"1\" class=\"dataframe\">\n",
       "  <thead>\n",
       "    <tr style=\"text-align: right;\">\n",
       "      <th></th>\n",
       "      <th>AYGA</th>\n",
       "      <th>GKA</th>\n",
       "      <th>GOROKA</th>\n",
       "      <th>GOROKA.1</th>\n",
       "      <th>PAPUA NEW GUINEA</th>\n",
       "      <th>006</th>\n",
       "      <th>004</th>\n",
       "      <th>054</th>\n",
       "      <th>S</th>\n",
       "      <th>145</th>\n",
       "      <th>023</th>\n",
       "      <th>030</th>\n",
       "      <th>E</th>\n",
       "      <th>01610</th>\n",
       "      <th>-6.082</th>\n",
       "      <th>145.392</th>\n",
       "    </tr>\n",
       "  </thead>\n",
       "  <tbody>\n",
       "    <tr>\n",
       "      <th>7781</th>\n",
       "      <td>SPIM</td>\n",
       "      <td>LIM</td>\n",
       "      <td>JORGE CHAVEZ INTERNATIONAL</td>\n",
       "      <td>LIMA</td>\n",
       "      <td>PERU</td>\n",
       "      <td>12</td>\n",
       "      <td>1</td>\n",
       "      <td>18</td>\n",
       "      <td>S</td>\n",
       "      <td>77</td>\n",
       "      <td>6</td>\n",
       "      <td>51</td>\n",
       "      <td>W</td>\n",
       "      <td>35</td>\n",
       "      <td>-12.022</td>\n",
       "      <td>-77.114</td>\n",
       "    </tr>\n",
       "  </tbody>\n",
       "</table>\n",
       "</div>"
      ],
      "text/plain": [
       "      AYGA  GKA                      GOROKA GOROKA.1 PAPUA NEW GUINEA  006  \\\n",
       "7781  SPIM  LIM  JORGE CHAVEZ INTERNATIONAL     LIMA             PERU   12   \n",
       "\n",
       "      004  054  S  145  023  030  E  01610  -6.082  145.392  \n",
       "7781    1   18  S   77    6   51  W     35 -12.022  -77.114  "
      ]
     },
     "execution_count": 14,
     "metadata": {},
     "output_type": "execute_result"
    }
   ],
   "source": [
    "airports[airports.GKA == 'LIM']"
   ]
  },
  {
   "cell_type": "code",
   "execution_count": 15,
   "id": "99c59ae9-a713-4354-bc8e-9026f1674bca",
   "metadata": {},
   "outputs": [
    {
     "data": {
      "text/plain": [
       "True"
      ]
     },
     "execution_count": 15,
     "metadata": {},
     "output_type": "execute_result"
    }
   ],
   "source": [
    "'SCEL' in airports.AYGA.unique()"
   ]
  },
  {
   "cell_type": "code",
   "execution_count": null,
   "id": "edbce8c7-da22-4f87-8345-385d8f0fa578",
   "metadata": {},
   "outputs": [],
   "source": []
  }
 ],
 "metadata": {
  "kernelspec": {
   "display_name": "Python 3 (ipykernel)",
   "language": "python",
   "name": "python3"
  },
  "language_info": {
   "codemirror_mode": {
    "name": "ipython",
    "version": 3
   },
   "file_extension": ".py",
   "mimetype": "text/x-python",
   "name": "python",
   "nbconvert_exporter": "python",
   "pygments_lexer": "ipython3",
   "version": "3.10.8"
  }
 },
 "nbformat": 4,
 "nbformat_minor": 5
}
