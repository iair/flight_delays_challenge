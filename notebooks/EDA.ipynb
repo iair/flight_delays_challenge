{
 "cells": [
  {
   "cell_type": "markdown",
   "id": "b005b616-458b-4f20-b409-ea3e65e558d3",
   "metadata": {},
   "source": [
    "# CHALLENGE LATAM AIRLINES - GLOBANT : Flight delay prediction"
   ]
  },
  {
   "cell_type": "markdown",
   "id": "1cac9f13-1c46-4818-a677-cd8e26c0a3e9",
   "metadata": {},
   "source": [
    "## Setup and ETL's\n",
    "\n",
    "In this section we will setup our environment and also will get  all the data needed to make our EDA, this include internal and external databases. Also, we will create some synthetic features that we think could be usefull to better understand the patterns associated with flight delays"
   ]
  },
  {
   "cell_type": "markdown",
   "id": "132e313c-2736-4762-8471-ccb33b928f28",
   "metadata": {
    "jp-MarkdownHeadingCollapsed": true,
    "tags": []
   },
   "source": [
    "### Setup environment"
   ]
  },
  {
   "cell_type": "markdown",
   "id": "98430a79-d120-4069-93c7-69b1d3e9db25",
   "metadata": {
    "jp-MarkdownHeadingCollapsed": true,
    "tags": []
   },
   "source": [
    "#### Import libraries"
   ]
  },
  {
   "cell_type": "code",
   "execution_count": 1,
   "id": "a33f1903-b3a6-438f-a78d-41b393b16b48",
   "metadata": {},
   "outputs": [],
   "source": [
    "import os\n",
    "import sys\n",
    "from datetime import datetime, timedelta\n",
    "import pandas as pd\n",
    "# Set some Pandas options\n",
    "pd.set_option('display.notebook_repr_html', True)\n",
    "pd.set_option('display.max_columns', 20)\n",
    "pd.set_option('display.max_rows', 50)\n",
    "import numpy as np\n",
    "import statsmodels as sm\n",
    "from scipy.stats import chi2\n",
    "import matplotlib.pyplot as plt\n",
    "import matplotlib_inline.backend_inline\n",
    "%config InlineBackend.figure_formats = ['svg']\n",
    "%matplotlib inline\n",
    "from sklearn import preprocessing"
   ]
  },
  {
   "cell_type": "markdown",
   "id": "f7dd96f8-46e2-4cf2-9a71-80475b0e5086",
   "metadata": {
    "jp-MarkdownHeadingCollapsed": true,
    "tags": []
   },
   "source": [
    "#### Set environment"
   ]
  },
  {
   "cell_type": "code",
   "execution_count": 2,
   "id": "7e1a6fed-d4ff-49a2-a222-bdba84626e21",
   "metadata": {},
   "outputs": [
    {
     "data": {
      "text/plain": [
       "'/Users/iairlinker/Documents/repos/flight_delays_challenge'"
      ]
     },
     "execution_count": 2,
     "metadata": {},
     "output_type": "execute_result"
    }
   ],
   "source": [
    "directory_path = os.path.abspath(os.path.join('..'))\n",
    "if directory_path not in sys.path:\n",
    "    sys.path.append(directory_path)\n",
    "os.chdir(directory_path)\n",
    "os.getcwd()"
   ]
  },
  {
   "cell_type": "markdown",
   "id": "aa9f9c5c-74df-4afe-946b-f19600eba8a5",
   "metadata": {
    "jp-MarkdownHeadingCollapsed": true,
    "tags": []
   },
   "source": [
    "### Home made functions definition"
   ]
  },
  {
   "cell_type": "code",
   "execution_count": 3,
   "id": "a0f1247e-ed85-424c-b795-160dfc7375c2",
   "metadata": {},
   "outputs": [],
   "source": [
    "def get_hist(var1,var2,name_image,values_range=[0,1],nbins=20,normed=True):\n",
    "    \n",
    "    common_params = dict(bins=nbins,range=values_range,normed=normed)\n",
    "    plt.subplots_adjust(hspace=.8)\n",
    "    plt.subplot(311)\n",
    "    plt.title('Default')\n",
    "    #plt.hist(df.popularity, **common_params)\n",
    "    plt.hist(var1, **common_params)\n",
    "    plt.hist(var2, **common_params)\n",
    "    plt.subplot(312)\n",
    "    plt.title('Skinny shift - 2 at a time')\n",
    "    plt.hist((var1, var2), **common_params)\n",
    "    plt.subplot(313)\n",
    "    common_params['histtype'] = 'step'\n",
    "    plt.title('With steps')\n",
    "    #plt.hist(df.popularity, **common_params)\n",
    "    plt.hist(var1, **common_params)\n",
    "    plt.hist(var2, **common_params)\n",
    "\n",
    "    plt.savefig(name_image)\n",
    "    plt.show()\n",
    "\n",
    "def get_period_day(x):\n",
    "    if((x>=5) & (x<12)):\n",
    "        return 'morning'\n",
    "    elif((x>=12) & (x<19)):\n",
    "        return 'afternoon'\n",
    "    elif((x>=19) or (x<5)):\n",
    "        return 'night'\n",
    "    \n",
    "def is_high_season(x):\n",
    "    if( (x <= datetime(2017, 3, 3).date()) or  (x >= datetime(2017, 12, 15).date())):\n",
    "        return 1\n",
    "    elif( (x >= datetime(2017, 7, 15).date()) or  (x >= datetime(2017, 7, 31).date())):\n",
    "        return 1\n",
    "    elif( (x >= datetime(2017, 9, 11).date()) or  (x >= datetime(2017, 9, 30).date())):\n",
    "        return 1\n",
    "    else:\n",
    "        return 0"
   ]
  },
  {
   "cell_type": "markdown",
   "id": "503b1287-c4d0-4cce-83c4-79f6e8002895",
   "metadata": {
    "jp-MarkdownHeadingCollapsed": true,
    "tags": []
   },
   "source": [
    "### Get the flightdata , generate the target variable and the synthetic features asked in the instructions"
   ]
  },
  {
   "cell_type": "code",
   "execution_count": 4,
   "id": "5c33452b-f90e-4237-bf36-2a1a05e1e592",
   "metadata": {},
   "outputs": [
    {
     "name": "stdout",
     "output_type": "stream",
     "text": [
      "(68206, 18)\n"
     ]
    },
    {
     "data": {
      "text/html": [
       "<div>\n",
       "<style scoped>\n",
       "    .dataframe tbody tr th:only-of-type {\n",
       "        vertical-align: middle;\n",
       "    }\n",
       "\n",
       "    .dataframe tbody tr th {\n",
       "        vertical-align: top;\n",
       "    }\n",
       "\n",
       "    .dataframe thead th {\n",
       "        text-align: right;\n",
       "    }\n",
       "</style>\n",
       "<table border=\"1\" class=\"dataframe\">\n",
       "  <thead>\n",
       "    <tr style=\"text-align: right;\">\n",
       "      <th></th>\n",
       "      <th>Fecha-I</th>\n",
       "      <th>Vlo-I</th>\n",
       "      <th>Ori-I</th>\n",
       "      <th>Des-I</th>\n",
       "      <th>Emp-I</th>\n",
       "      <th>Fecha-O</th>\n",
       "      <th>Vlo-O</th>\n",
       "      <th>Ori-O</th>\n",
       "      <th>Des-O</th>\n",
       "      <th>Emp-O</th>\n",
       "      <th>DIA</th>\n",
       "      <th>MES</th>\n",
       "      <th>AÑO</th>\n",
       "      <th>DIANOM</th>\n",
       "      <th>TIPOVUELO</th>\n",
       "      <th>OPERA</th>\n",
       "      <th>SIGLAORI</th>\n",
       "      <th>SIGLADES</th>\n",
       "    </tr>\n",
       "  </thead>\n",
       "  <tbody>\n",
       "    <tr>\n",
       "      <th>0</th>\n",
       "      <td>2017-01-01 23:30:00</td>\n",
       "      <td>226</td>\n",
       "      <td>SCEL</td>\n",
       "      <td>KMIA</td>\n",
       "      <td>AAL</td>\n",
       "      <td>2017-01-01 23:33:00</td>\n",
       "      <td>226</td>\n",
       "      <td>SCEL</td>\n",
       "      <td>KMIA</td>\n",
       "      <td>AAL</td>\n",
       "      <td>1</td>\n",
       "      <td>1</td>\n",
       "      <td>2017</td>\n",
       "      <td>Domingo</td>\n",
       "      <td>I</td>\n",
       "      <td>American Airlines</td>\n",
       "      <td>Santiago</td>\n",
       "      <td>Miami</td>\n",
       "    </tr>\n",
       "    <tr>\n",
       "      <th>1</th>\n",
       "      <td>2017-01-02 23:30:00</td>\n",
       "      <td>226</td>\n",
       "      <td>SCEL</td>\n",
       "      <td>KMIA</td>\n",
       "      <td>AAL</td>\n",
       "      <td>2017-01-02 23:39:00</td>\n",
       "      <td>226</td>\n",
       "      <td>SCEL</td>\n",
       "      <td>KMIA</td>\n",
       "      <td>AAL</td>\n",
       "      <td>2</td>\n",
       "      <td>1</td>\n",
       "      <td>2017</td>\n",
       "      <td>Lunes</td>\n",
       "      <td>I</td>\n",
       "      <td>American Airlines</td>\n",
       "      <td>Santiago</td>\n",
       "      <td>Miami</td>\n",
       "    </tr>\n",
       "    <tr>\n",
       "      <th>2</th>\n",
       "      <td>2017-01-03 23:30:00</td>\n",
       "      <td>226</td>\n",
       "      <td>SCEL</td>\n",
       "      <td>KMIA</td>\n",
       "      <td>AAL</td>\n",
       "      <td>2017-01-03 23:39:00</td>\n",
       "      <td>226</td>\n",
       "      <td>SCEL</td>\n",
       "      <td>KMIA</td>\n",
       "      <td>AAL</td>\n",
       "      <td>3</td>\n",
       "      <td>1</td>\n",
       "      <td>2017</td>\n",
       "      <td>Martes</td>\n",
       "      <td>I</td>\n",
       "      <td>American Airlines</td>\n",
       "      <td>Santiago</td>\n",
       "      <td>Miami</td>\n",
       "    </tr>\n",
       "    <tr>\n",
       "      <th>3</th>\n",
       "      <td>2017-01-04 23:30:00</td>\n",
       "      <td>226</td>\n",
       "      <td>SCEL</td>\n",
       "      <td>KMIA</td>\n",
       "      <td>AAL</td>\n",
       "      <td>2017-01-04 23:33:00</td>\n",
       "      <td>226</td>\n",
       "      <td>SCEL</td>\n",
       "      <td>KMIA</td>\n",
       "      <td>AAL</td>\n",
       "      <td>4</td>\n",
       "      <td>1</td>\n",
       "      <td>2017</td>\n",
       "      <td>Miercoles</td>\n",
       "      <td>I</td>\n",
       "      <td>American Airlines</td>\n",
       "      <td>Santiago</td>\n",
       "      <td>Miami</td>\n",
       "    </tr>\n",
       "    <tr>\n",
       "      <th>4</th>\n",
       "      <td>2017-01-05 23:30:00</td>\n",
       "      <td>226</td>\n",
       "      <td>SCEL</td>\n",
       "      <td>KMIA</td>\n",
       "      <td>AAL</td>\n",
       "      <td>2017-01-05 23:28:00</td>\n",
       "      <td>226</td>\n",
       "      <td>SCEL</td>\n",
       "      <td>KMIA</td>\n",
       "      <td>AAL</td>\n",
       "      <td>5</td>\n",
       "      <td>1</td>\n",
       "      <td>2017</td>\n",
       "      <td>Jueves</td>\n",
       "      <td>I</td>\n",
       "      <td>American Airlines</td>\n",
       "      <td>Santiago</td>\n",
       "      <td>Miami</td>\n",
       "    </tr>\n",
       "  </tbody>\n",
       "</table>\n",
       "</div>"
      ],
      "text/plain": [
       "               Fecha-I Vlo-I Ori-I Des-I Emp-I              Fecha-O Vlo-O  \\\n",
       "0  2017-01-01 23:30:00   226  SCEL  KMIA   AAL  2017-01-01 23:33:00   226   \n",
       "1  2017-01-02 23:30:00   226  SCEL  KMIA   AAL  2017-01-02 23:39:00   226   \n",
       "2  2017-01-03 23:30:00   226  SCEL  KMIA   AAL  2017-01-03 23:39:00   226   \n",
       "3  2017-01-04 23:30:00   226  SCEL  KMIA   AAL  2017-01-04 23:33:00   226   \n",
       "4  2017-01-05 23:30:00   226  SCEL  KMIA   AAL  2017-01-05 23:28:00   226   \n",
       "\n",
       "  Ori-O Des-O Emp-O  DIA  MES   AÑO     DIANOM TIPOVUELO              OPERA  \\\n",
       "0  SCEL  KMIA   AAL    1    1  2017    Domingo         I  American Airlines   \n",
       "1  SCEL  KMIA   AAL    2    1  2017      Lunes         I  American Airlines   \n",
       "2  SCEL  KMIA   AAL    3    1  2017     Martes         I  American Airlines   \n",
       "3  SCEL  KMIA   AAL    4    1  2017  Miercoles         I  American Airlines   \n",
       "4  SCEL  KMIA   AAL    5    1  2017     Jueves         I  American Airlines   \n",
       "\n",
       "   SIGLAORI SIGLADES  \n",
       "0  Santiago    Miami  \n",
       "1  Santiago    Miami  \n",
       "2  Santiago    Miami  \n",
       "3  Santiago    Miami  \n",
       "4  Santiago    Miami  "
      ]
     },
     "execution_count": 4,
     "metadata": {},
     "output_type": "execute_result"
    }
   ],
   "source": [
    "path = os.getcwd() + '/data/raw/dataset_SCL.csv'\n",
    "flights = pd.read_csv(path,low_memory=False)\n",
    "print(flights.shape)\n",
    "flights.head()"
   ]
  },
  {
   "cell_type": "code",
   "execution_count": 5,
   "id": "48a18451-ab8b-43b2-a7b3-779a793f5052",
   "metadata": {},
   "outputs": [
    {
     "data": {
      "text/html": [
       "<div>\n",
       "<style scoped>\n",
       "    .dataframe tbody tr th:only-of-type {\n",
       "        vertical-align: middle;\n",
       "    }\n",
       "\n",
       "    .dataframe tbody tr th {\n",
       "        vertical-align: top;\n",
       "    }\n",
       "\n",
       "    .dataframe thead th {\n",
       "        text-align: right;\n",
       "    }\n",
       "</style>\n",
       "<table border=\"1\" class=\"dataframe\">\n",
       "  <thead>\n",
       "    <tr style=\"text-align: right;\">\n",
       "      <th></th>\n",
       "      <th>Fecha-I</th>\n",
       "      <th>Vlo-I</th>\n",
       "      <th>Ori-I</th>\n",
       "      <th>Des-I</th>\n",
       "      <th>Emp-I</th>\n",
       "      <th>Fecha-O</th>\n",
       "      <th>Vlo-O</th>\n",
       "      <th>Ori-O</th>\n",
       "      <th>Des-O</th>\n",
       "      <th>Emp-O</th>\n",
       "      <th>...</th>\n",
       "      <th>AÑO</th>\n",
       "      <th>DIANOM</th>\n",
       "      <th>TIPOVUELO</th>\n",
       "      <th>OPERA</th>\n",
       "      <th>SIGLAORI</th>\n",
       "      <th>SIGLADES</th>\n",
       "      <th>dif_min</th>\n",
       "      <th>atraso_15</th>\n",
       "      <th>periodo_dia</th>\n",
       "      <th>temporada_alta</th>\n",
       "    </tr>\n",
       "  </thead>\n",
       "  <tbody>\n",
       "    <tr>\n",
       "      <th>0</th>\n",
       "      <td>2017-01-01 23:30:00</td>\n",
       "      <td>226</td>\n",
       "      <td>SCEL</td>\n",
       "      <td>KMIA</td>\n",
       "      <td>AAL</td>\n",
       "      <td>2017-01-01 23:33:00</td>\n",
       "      <td>226</td>\n",
       "      <td>SCEL</td>\n",
       "      <td>KMIA</td>\n",
       "      <td>AAL</td>\n",
       "      <td>...</td>\n",
       "      <td>2017</td>\n",
       "      <td>Domingo</td>\n",
       "      <td>I</td>\n",
       "      <td>American Airlines</td>\n",
       "      <td>Santiago</td>\n",
       "      <td>Miami</td>\n",
       "      <td>3.0</td>\n",
       "      <td>0</td>\n",
       "      <td>night</td>\n",
       "      <td>1</td>\n",
       "    </tr>\n",
       "    <tr>\n",
       "      <th>1</th>\n",
       "      <td>2017-01-02 23:30:00</td>\n",
       "      <td>226</td>\n",
       "      <td>SCEL</td>\n",
       "      <td>KMIA</td>\n",
       "      <td>AAL</td>\n",
       "      <td>2017-01-02 23:39:00</td>\n",
       "      <td>226</td>\n",
       "      <td>SCEL</td>\n",
       "      <td>KMIA</td>\n",
       "      <td>AAL</td>\n",
       "      <td>...</td>\n",
       "      <td>2017</td>\n",
       "      <td>Lunes</td>\n",
       "      <td>I</td>\n",
       "      <td>American Airlines</td>\n",
       "      <td>Santiago</td>\n",
       "      <td>Miami</td>\n",
       "      <td>9.0</td>\n",
       "      <td>0</td>\n",
       "      <td>night</td>\n",
       "      <td>1</td>\n",
       "    </tr>\n",
       "  </tbody>\n",
       "</table>\n",
       "<p>2 rows × 22 columns</p>\n",
       "</div>"
      ],
      "text/plain": [
       "              Fecha-I Vlo-I Ori-I Des-I Emp-I             Fecha-O Vlo-O Ori-O  \\\n",
       "0 2017-01-01 23:30:00   226  SCEL  KMIA   AAL 2017-01-01 23:33:00   226  SCEL   \n",
       "1 2017-01-02 23:30:00   226  SCEL  KMIA   AAL 2017-01-02 23:39:00   226  SCEL   \n",
       "\n",
       "  Des-O Emp-O  ...   AÑO   DIANOM  TIPOVUELO              OPERA  SIGLAORI  \\\n",
       "0  KMIA   AAL  ...  2017  Domingo          I  American Airlines  Santiago   \n",
       "1  KMIA   AAL  ...  2017    Lunes          I  American Airlines  Santiago   \n",
       "\n",
       "  SIGLADES dif_min atraso_15  periodo_dia  temporada_alta  \n",
       "0    Miami     3.0         0        night               1  \n",
       "1    Miami     9.0         0        night               1  \n",
       "\n",
       "[2 rows x 22 columns]"
      ]
     },
     "execution_count": 5,
     "metadata": {},
     "output_type": "execute_result"
    }
   ],
   "source": [
    "flights['Fecha-O'] = pd.to_datetime(flights['Fecha-O'])\n",
    "flights['Fecha-I'] = pd.to_datetime(flights['Fecha-I'])\n",
    "ind = flights[flights['Fecha-O']>flights['Fecha-I']].index\n",
    "flights.loc[ind,'dif_min'] = (flights.loc[ind]['Fecha-O']-flights.loc[ind]['Fecha-I']).apply(lambda x: (x.seconds)/60)\n",
    "ind = flights[flights['Fecha-I']>flights['Fecha-O']].index\n",
    "flights.loc[ind,'dif_min'] = (flights.loc[ind]['Fecha-I']-flights.loc[ind]['Fecha-O']).apply(lambda x: -1* (x.seconds)/60)\n",
    "flights['atraso_15'] = flights.dif_min.apply(lambda x: 1 if (x>15) else 0)\n",
    "flights['periodo_dia'] = flights['Fecha-I'].apply(lambda x : get_period_day(x.hour))\n",
    "flights['temporada_alta'] = flights['Fecha-I'].apply(lambda x : is_high_season(x.date()))\n",
    "path = os.getcwd() + '/data/processed/synthetic_features.csv' \n",
    "flights.to_csv(path,\n",
    "          sep=',',\n",
    "          index = False,\n",
    "          columns = ['temporada_alta','dif_min','atraso_15','periodo_dia']\n",
    "         )\n",
    "flights.head(2)"
   ]
  },
  {
   "cell_type": "markdown",
   "id": "45745873-3220-48e9-a41c-608611b1bdf2",
   "metadata": {
    "jp-MarkdownHeadingCollapsed": true,
    "tags": []
   },
   "source": [
    "### Check airports and add external data aggregation"
   ]
  },
  {
   "cell_type": "markdown",
   "id": "0194165e-56b9-4ded-9559-e55097f45281",
   "metadata": {
    "jp-MarkdownHeadingCollapsed": true,
    "tags": []
   },
   "source": [
    "#### Check departure and arrival airports\n",
    "\n",
    "First, we check how many departure airports I have, how many arrivals and to understand the number of possible combinations between them, which will allow me to have an idea of the complexity that this variable will add and design strategies to address it."
   ]
  },
  {
   "cell_type": "code",
   "execution_count": 6,
   "id": "2e36d147-fbc2-44cd-8074-00f5f70b9252",
   "metadata": {},
   "outputs": [
    {
     "data": {
      "text/plain": [
       "64"
      ]
     },
     "execution_count": 6,
     "metadata": {},
     "output_type": "execute_result"
    }
   ],
   "source": [
    "len(flights['Des-I'].unique())"
   ]
  },
  {
   "cell_type": "code",
   "execution_count": 7,
   "id": "f7b94e95-8475-40ae-8c81-b7d7bc463139",
   "metadata": {},
   "outputs": [
    {
     "data": {
      "text/plain": [
       "False"
      ]
     },
     "execution_count": 7,
     "metadata": {},
     "output_type": "execute_result"
    }
   ],
   "source": [
    "'SCEL' in flights['Des-I'].unique()"
   ]
  },
  {
   "cell_type": "code",
   "execution_count": 8,
   "id": "35f507ba-c1c5-4c43-80a0-317a65f74daf",
   "metadata": {},
   "outputs": [
    {
     "data": {
      "text/plain": [
       "array(['SCEL'], dtype=object)"
      ]
     },
     "execution_count": 8,
     "metadata": {},
     "output_type": "execute_result"
    }
   ],
   "source": [
    "flights['Ori-I'].unique()"
   ]
  },
  {
   "cell_type": "markdown",
   "id": "da1cd331-b852-4334-b4a2-aa76e4e86e6e",
   "metadata": {
    "jp-MarkdownHeadingCollapsed": true,
    "tags": []
   },
   "source": [
    "#### Add the International Airport Database\n",
    "\n",
    "Then, we agreggate the data from the Global Airport database (<https://www.partow.net/miscellaneous/airportdatabase/>) which will give me the name of the airport, country where is located, the latitud and longitud for each airport. This variables will give me the chance to create some new features like distance between origin and destiny and , if i had time, get the wather in the airport for each flyght."
   ]
  },
  {
   "cell_type": "code",
   "execution_count": 9,
   "id": "694eb59b-c8d9-4d23-9c0e-3d647166c48d",
   "metadata": {},
   "outputs": [
    {
     "name": "stdout",
     "output_type": "stream",
     "text": [
      "(9300, 7)\n"
     ]
    },
    {
     "data": {
      "text/html": [
       "<div>\n",
       "<style scoped>\n",
       "    .dataframe tbody tr th:only-of-type {\n",
       "        vertical-align: middle;\n",
       "    }\n",
       "\n",
       "    .dataframe tbody tr th {\n",
       "        vertical-align: top;\n",
       "    }\n",
       "\n",
       "    .dataframe thead th {\n",
       "        text-align: right;\n",
       "    }\n",
       "</style>\n",
       "<table border=\"1\" class=\"dataframe\">\n",
       "  <thead>\n",
       "    <tr style=\"text-align: right;\">\n",
       "      <th></th>\n",
       "      <th>ICAO Code</th>\n",
       "      <th>IATA Code</th>\n",
       "      <th>Airport Name</th>\n",
       "      <th>City/Town</th>\n",
       "      <th>Country</th>\n",
       "      <th>Lat</th>\n",
       "      <th>Long</th>\n",
       "    </tr>\n",
       "  </thead>\n",
       "  <tbody>\n",
       "    <tr>\n",
       "      <th>0</th>\n",
       "      <td>AYGA</td>\n",
       "      <td>GKA</td>\n",
       "      <td>GOROKA</td>\n",
       "      <td>GOROKA</td>\n",
       "      <td>PAPUA NEW GUINEA</td>\n",
       "      <td>-6.082</td>\n",
       "      <td>145.392</td>\n",
       "    </tr>\n",
       "    <tr>\n",
       "      <th>1</th>\n",
       "      <td>AYLA</td>\n",
       "      <td>LAE</td>\n",
       "      <td>NaN</td>\n",
       "      <td>LAE</td>\n",
       "      <td>PAPUA NEW GUINEA</td>\n",
       "      <td>0.000</td>\n",
       "      <td>0.000</td>\n",
       "    </tr>\n",
       "  </tbody>\n",
       "</table>\n",
       "</div>"
      ],
      "text/plain": [
       "  ICAO Code IATA Code Airport Name City/Town           Country    Lat     Long\n",
       "0      AYGA       GKA       GOROKA    GOROKA  PAPUA NEW GUINEA -6.082  145.392\n",
       "1      AYLA       LAE          NaN       LAE  PAPUA NEW GUINEA  0.000    0.000"
      ]
     },
     "execution_count": 9,
     "metadata": {},
     "output_type": "execute_result"
    }
   ],
   "source": [
    "col_names = ['ICAO Code','IATA Code','Airport Name','City/Town','Country','Lat','Long']\n",
    "path = os.getcwd() + '/data/external/GlobalAirportDatabase.txt'\n",
    "airports = pd.read_csv(path,\n",
    "                       sep=':',\n",
    "                       usecols = [0,1,2,3,4,14,15],\n",
    "                       header = None,\n",
    "                       names = col_names\n",
    "                      )\n",
    "print(airports.shape)\n",
    "airports.head(2)"
   ]
  },
  {
   "cell_type": "markdown",
   "id": "7a067f65-1687-41b2-89dd-cfb64f564425",
   "metadata": {},
   "source": [
    "We check that all the origin and destination codes are in the airport database, and if this is not the case, we will look for mechanisms to leave the column that has the ICAO codes from our flights database"
   ]
  },
  {
   "cell_type": "code",
   "execution_count": 10,
   "id": "97825e4a-7894-4de5-a67a-187a9966c3b4",
   "metadata": {},
   "outputs": [
    {
     "name": "stdout",
     "output_type": "stream",
     "text": [
      "Aún tienes códigos ICAO distintos para el mismo aerpuerto y es: SAEZ\n",
      "Aún tienes códigos ICAO distintos para el mismo aerpuerto y es: SPJC\n",
      "Aún tienes códigos ICAO distintos para el mismo aerpuerto y es: SCNT\n",
      "Aún tienes códigos ICAO distintos para el mismo aerpuerto y es: SCQP\n",
      "Aún tienes códigos ICAO distintos para el mismo aerpuerto y es: SCAT\n",
      "Aún tienes códigos ICAO distintos para el mismo aerpuerto y es: SCPQ\n",
      "Aún tienes códigos ICAO distintos para el mismo aerpuerto y es: SEQM\n"
     ]
    }
   ],
   "source": [
    "for element in flights['Des-I'].unique():\n",
    "    if(element not in airports['ICAO Code'].unique()):\n",
    "        print('Aún tienes códigos ICAO distintos para el mismo aerpuerto y es: '+ str(element))"
   ]
  },
  {
   "cell_type": "markdown",
   "id": "f5dcaadd-acce-4290-94f8-c3433db6930c",
   "metadata": {},
   "source": [
    "This information of this website <https://www.world-airport-codes.com> was used to correct the airports codes that does not match. We just get the ICAO code that wasn't in \n",
    "the aiiports database and get the IATA code of the airport. Then, changed the original ICAO code for the one of our database.\n",
    "\n",
    "In the case of UIO we had to leave the ICAO code SEQU in the old location of Mariscal Sucre International Airport, since this one is now closed but our flyght database has arrivals on there and also in the new one, which is SEQM, the one which we create with the new location above"
   ]
  },
  {
   "cell_type": "code",
   "execution_count": 11,
   "id": "2d9358f8-795e-4b23-bdf5-a40ade88dd02",
   "metadata": {},
   "outputs": [],
   "source": [
    "airports.loc[airports['IATA Code'] == 'EZE','ICAO Code'] = 'SAEZ' # Ezeiza International airport of Buenos Aires, Argentina,\n",
    "airports.loc[airports['IATA Code'] == 'LIM','ICAO Code'] = 'SPJC' # intenational airport of Lima, Perú\n",
    "airports.loc[airports['IATA Code'] == 'ZCO','ICAO Code'] = 'SCQP' # National airport ofAraucania, Chile\n",
    "airports.loc[airports['IATA Code'] == 'CPO','ICAO Code'] = 'SCAT' # National airport of Calama, Chile\n",
    "airports.loc[airports['IATA Code'] == 'UIO','ICAO Code'] = 'SEQU' # International airport Mariscal Sucre Quito, Ecuador"
   ]
  },
  {
   "cell_type": "markdown",
   "id": "4ac7ac59-a4c8-45d7-a09f-6a05fa1b3a82",
   "metadata": {},
   "source": [
    "Also, we had to create two airports that wasn't in any of the databases and add it to ours, both are new airports builded in remote areas of Chile"
   ]
  },
  {
   "cell_type": "code",
   "execution_count": 12,
   "id": "8f226f0e-3c3a-4850-b3b1-c42d3440c424",
   "metadata": {},
   "outputs": [],
   "source": [
    "uio_airport = {'ICAO Code':'SEQM', \n",
    "           'IATA Code':'UIO', \n",
    "           'Airport Name':'MARISCAL SUCRE INTERNATIONAL', \n",
    "           'City/Town':'QUITO',\n",
    "           'Country':'ECUADOR',\n",
    "           'Lat':-0.1291667,\n",
    "           'Long':-78.3575\n",
    "          }\n",
    "\n",
    "pnt_airport = {'ICAO Code':'SCNT', \n",
    "           'IATA Code':'PNT', \n",
    "           'Airport Name':'TENIENTE JULIO GALLARDO', \n",
    "           'City/Town':'PUERTO NATALES',\n",
    "           'Country':'CHILE',\n",
    "           'Lat':-51.6715012,\n",
    "           'Long':-72.5283966\n",
    "          }\n",
    "mhc_airport = {'ICAO Code':'SCPQ', \n",
    "           'IATA Code':'MHC', \n",
    "           'Airport Name':'MOCOPULLI AIRPORT', \n",
    "           'City/Town':'DALCAHUE',\n",
    "           'Country':'CHILE',\n",
    "           'Lat':-42.34611,\n",
    "           'Long':-73.71389\n",
    "          }\n",
    "pnt_airport = pd.DataFrame.from_dict(pnt_airport, orient = 'index').T\n",
    "mhc_airport = pd.DataFrame.from_dict(mhc_airport, orient = 'index').T\n",
    "uio_airport = pd.DataFrame.from_dict(uio_airport, orient = 'index').T\n",
    "#append row to the dataframe\n",
    "airports = pd.concat([airports,mhc_airport,uio_airport,pnt_airport],ignore_index = True)"
   ]
  },
  {
   "cell_type": "code",
   "execution_count": 13,
   "id": "99c59ae9-a713-4354-bc8e-9026f1674bca",
   "metadata": {},
   "outputs": [],
   "source": [
    "for element in flights['Des-I'].unique():\n",
    "    if(element not in airports['ICAO Code'].unique()):\n",
    "        print('Aún tienes códigos ICAO distintos para el mismo aerpuerto y es: '+ str(element))"
   ]
  },
  {
   "cell_type": "code",
   "execution_count": 14,
   "id": "ab4840f0-192d-4f8a-afd0-54bfac969545",
   "metadata": {},
   "outputs": [
    {
     "data": {
      "text/html": [
       "<div>\n",
       "<style scoped>\n",
       "    .dataframe tbody tr th:only-of-type {\n",
       "        vertical-align: middle;\n",
       "    }\n",
       "\n",
       "    .dataframe tbody tr th {\n",
       "        vertical-align: top;\n",
       "    }\n",
       "\n",
       "    .dataframe thead th {\n",
       "        text-align: right;\n",
       "    }\n",
       "</style>\n",
       "<table border=\"1\" class=\"dataframe\">\n",
       "  <thead>\n",
       "    <tr style=\"text-align: right;\">\n",
       "      <th></th>\n",
       "      <th>Fecha-I</th>\n",
       "      <th>Vlo-I</th>\n",
       "      <th>Ori-I</th>\n",
       "      <th>Des-I</th>\n",
       "      <th>Emp-I</th>\n",
       "      <th>Fecha-O</th>\n",
       "      <th>Vlo-O</th>\n",
       "      <th>Ori-O</th>\n",
       "      <th>Des-O</th>\n",
       "      <th>Emp-O</th>\n",
       "      <th>...</th>\n",
       "      <th>atraso_15</th>\n",
       "      <th>periodo_dia</th>\n",
       "      <th>temporada_alta</th>\n",
       "      <th>ICAO Code</th>\n",
       "      <th>IATA Code</th>\n",
       "      <th>Airport Name</th>\n",
       "      <th>City/Town</th>\n",
       "      <th>Country</th>\n",
       "      <th>Lat</th>\n",
       "      <th>Long</th>\n",
       "    </tr>\n",
       "  </thead>\n",
       "  <tbody>\n",
       "    <tr>\n",
       "      <th>0</th>\n",
       "      <td>2017-01-01 23:30:00</td>\n",
       "      <td>226</td>\n",
       "      <td>SCEL</td>\n",
       "      <td>KMIA</td>\n",
       "      <td>AAL</td>\n",
       "      <td>2017-01-01 23:33:00</td>\n",
       "      <td>226</td>\n",
       "      <td>SCEL</td>\n",
       "      <td>KMIA</td>\n",
       "      <td>AAL</td>\n",
       "      <td>...</td>\n",
       "      <td>0</td>\n",
       "      <td>night</td>\n",
       "      <td>1</td>\n",
       "      <td>KMIA</td>\n",
       "      <td>MIA</td>\n",
       "      <td>MIAMI INTERNATIONAL</td>\n",
       "      <td>MIAMI</td>\n",
       "      <td>USA</td>\n",
       "      <td>25.793</td>\n",
       "      <td>-80.291</td>\n",
       "    </tr>\n",
       "    <tr>\n",
       "      <th>1</th>\n",
       "      <td>2017-01-02 23:30:00</td>\n",
       "      <td>226</td>\n",
       "      <td>SCEL</td>\n",
       "      <td>KMIA</td>\n",
       "      <td>AAL</td>\n",
       "      <td>2017-01-02 23:39:00</td>\n",
       "      <td>226</td>\n",
       "      <td>SCEL</td>\n",
       "      <td>KMIA</td>\n",
       "      <td>AAL</td>\n",
       "      <td>...</td>\n",
       "      <td>0</td>\n",
       "      <td>night</td>\n",
       "      <td>1</td>\n",
       "      <td>KMIA</td>\n",
       "      <td>MIA</td>\n",
       "      <td>MIAMI INTERNATIONAL</td>\n",
       "      <td>MIAMI</td>\n",
       "      <td>USA</td>\n",
       "      <td>25.793</td>\n",
       "      <td>-80.291</td>\n",
       "    </tr>\n",
       "  </tbody>\n",
       "</table>\n",
       "<p>2 rows × 29 columns</p>\n",
       "</div>"
      ],
      "text/plain": [
       "              Fecha-I Vlo-I Ori-I Des-I Emp-I             Fecha-O Vlo-O Ori-O  \\\n",
       "0 2017-01-01 23:30:00   226  SCEL  KMIA   AAL 2017-01-01 23:33:00   226  SCEL   \n",
       "1 2017-01-02 23:30:00   226  SCEL  KMIA   AAL 2017-01-02 23:39:00   226  SCEL   \n",
       "\n",
       "  Des-O Emp-O  ...  atraso_15  periodo_dia  temporada_alta ICAO Code  \\\n",
       "0  KMIA   AAL  ...          0        night               1      KMIA   \n",
       "1  KMIA   AAL  ...          0        night               1      KMIA   \n",
       "\n",
       "  IATA Code         Airport Name City/Town Country     Lat    Long  \n",
       "0       MIA  MIAMI INTERNATIONAL     MIAMI     USA  25.793 -80.291  \n",
       "1       MIA  MIAMI INTERNATIONAL     MIAMI     USA  25.793 -80.291  \n",
       "\n",
       "[2 rows x 29 columns]"
      ]
     },
     "execution_count": 14,
     "metadata": {},
     "output_type": "execute_result"
    }
   ],
   "source": [
    "df = pd.merge(flights, airports, left_on = 'Des-I',right_on = 'ICAO Code', how='left')\n",
    "path = os.getcwd() + '/data/processed/database.csv' \n",
    "df.to_csv(path,\n",
    "          sep=',',\n",
    "          index = False\n",
    "         )\n",
    "df.head(2)"
   ]
  },
  {
   "cell_type": "markdown",
   "id": "a6fb01f3-f6f4-44f2-8e94-3bf713e074eb",
   "metadata": {},
   "source": [
    "### Conclusions\n",
    "\n",
    "* All the flights depart from the Arturo Merino Benitez Airport in Santiago, Chile and arrive at 64 different airports. This limits the complexity of the problem, since you only have to understand the incidence of 64 possible combinations\n",
    "\n",
    "* We where aible to correct manually the seven ICAO codes in the Global Airport database that doesn't match our database. Probably, the updated code is the one from the external database, but since our model will be tested with the ICAO codes given we preserved the ones from 2017. After that, we added the some information of the external database to ours in order to understand the influence of the location of the airport and the distance between departure and arrival airports in the delays\n",
    "\n",
    "* Personalized functions where created to generate the sythetic features asked in the instructions and it was saved in the data processed file\n",
    "\n",
    "----------------------------------------------------------------------------------------------------------------------------------------------------------------------------------"
   ]
  },
  {
   "cell_type": "markdown",
   "id": "e78eb280-4719-4024-84fc-455f7cfc1b3b",
   "metadata": {
    "tags": []
   },
   "source": [
    "## Exploratory data analysis on the variables\n",
    "\n",
    "On this section we are going to make an exploratory data analysis following this steps:\n",
    "\n",
    "* Check Data integrity\n",
    "* Understand distribution of the data for each variable\n",
    "* Check this hypothesis\n",
    "* Multivariable analysis\n",
    "* Conclusions"
   ]
  },
  {
   "cell_type": "markdown",
   "id": "3fb395de-346a-4667-a15f-94d4fc41e476",
   "metadata": {
    "tags": []
   },
   "source": [
    "#### Check Data integrity\n",
    "* missing values\n",
    "* Check outliers\n",
    "* Check out of range values"
   ]
  },
  {
   "cell_type": "markdown",
   "id": "482bd15b-9cef-4c80-90b1-21400bcde9fc",
   "metadata": {
    "tags": []
   },
   "source": [
    "#### Understand distribution of the data for each variable\n",
    "\n",
    "* Check the distribution of the delays in minutes (is there extreme values?)\n",
    "* Check the distribution of the delays as binary variable (it's balanced?)\n",
    "* Check the distribution of the explanatory variables (are they evenly distributed?) \n",
    "* Check how much of the arrival airport planned is the same as the arrival airport operated\n",
    "* Check how much of the  planned airline is the same as the operated airline\n",
    "* Check how much of the planned flight number is the same as the operated flight number"
   ]
  },
  {
   "cell_type": "code",
   "execution_count": null,
   "id": "7150cc60-bc42-4be1-a607-c0291a80fa9a",
   "metadata": {},
   "outputs": [],
   "source": []
  },
  {
   "cell_type": "markdown",
   "id": "73f014b3-6c5c-46c3-b87a-73189b20a501",
   "metadata": {
    "tags": []
   },
   "source": [
    "#### Check this hypothesis\n",
    "\n",
    "* There is a significance difference in delays between airlines\n",
    "* There is a significance difference in delays between airports\n",
    "* There is a significance difference in delays between the type of flyght (international or national)\n",
    "* There is a significance difference in delays between high season and the rest of the year\n",
    "* There is a significance difference in delays between the 3 differents periods of the day (morning, afternoon and night)\n",
    "* There is a strong correlation between distance between arrival and departure airport and delays"
   ]
  },
  {
   "cell_type": "code",
   "execution_count": null,
   "id": "b32dd762-5f6c-4d33-94d0-4fe6fdab8306",
   "metadata": {},
   "outputs": [],
   "source": []
  },
  {
   "cell_type": "markdown",
   "id": "53884b9d-15e5-4585-94d7-eb9b537474b3",
   "metadata": {
    "jp-MarkdownHeadingCollapsed": true,
    "tags": []
   },
   "source": [
    "#### Multivariable analysis\n",
    "\n",
    "* Understand the relation of the explanatory variables with the target\n",
    "* Understand the relation of the explanatory variables between them"
   ]
  },
  {
   "cell_type": "code",
   "execution_count": null,
   "id": "8ebec16c-c520-450e-b470-4f060674e2db",
   "metadata": {},
   "outputs": [],
   "source": []
  },
  {
   "cell_type": "markdown",
   "id": "83a17d96-8218-470c-8888-0eef75dc5789",
   "metadata": {
    "tags": []
   },
   "source": [
    "#### Conclusions\n",
    "\n",
    "* Summary of the main insights\n",
    "* Explanation of which variables are the best candidates to be selected for the model and why\n",
    "\n",
    "\n",
    "\n",
    "----------------------------------------------------------------------------------------------------------------------------------------------------------------------------------"
   ]
  },
  {
   "cell_type": "code",
   "execution_count": null,
   "id": "162f6cf3-2166-4723-9398-23d283dd33bb",
   "metadata": {},
   "outputs": [],
   "source": []
  }
 ],
 "metadata": {
  "kernelspec": {
   "display_name": "Python 3 (ipykernel)",
   "language": "python",
   "name": "python3"
  },
  "language_info": {
   "codemirror_mode": {
    "name": "ipython",
    "version": 3
   },
   "file_extension": ".py",
   "mimetype": "text/x-python",
   "name": "python",
   "nbconvert_exporter": "python",
   "pygments_lexer": "ipython3",
   "version": "3.10.8"
  }
 },
 "nbformat": 4,
 "nbformat_minor": 5
}
