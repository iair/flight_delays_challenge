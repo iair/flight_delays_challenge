{
 "cells": [
  {
   "cell_type": "code",
   "execution_count": 1,
   "id": "14c503c3-826e-4014-8ac7-1b65eae4a196",
   "metadata": {},
   "outputs": [],
   "source": [
    "import os\n",
    "import sys\n",
    "import time\n",
    "import warnings\n",
    "warnings.filterwarnings('ignore')\n",
    "# libraries for visualization\n",
    "import matplotlib.pyplot as plt\n",
    "%matplotlib inline\n",
    "import seaborn as sns\n",
    "sns.set_theme(style=\"white\")\n",
    "import pandas as pd\n",
    "pd.set_option(\"display.max_columns\", 30)\n",
    "import numpy as np\n",
    "from datetime import datetime\n",
    "# Using make_column_transformer to One-Hot Encode\n",
    "from sklearn.preprocessing import OneHotEncoder\n",
    "from sklearn.compose import make_column_transformer\n",
    "from prince import mca"
   ]
  },
  {
   "cell_type": "code",
   "execution_count": 2,
   "id": "708e587a-dcce-4cb6-bbab-10ae990e6a1b",
   "metadata": {},
   "outputs": [
    {
     "data": {
      "text/plain": [
       "'/Users/iairlinker/Documents/repos/flight_delays_challenge'"
      ]
     },
     "execution_count": 2,
     "metadata": {},
     "output_type": "execute_result"
    }
   ],
   "source": [
    "directory_path = os.path.abspath(os.path.join('..'))\n",
    "if directory_path not in sys.path:\n",
    "    sys.path.append(directory_path)\n",
    "os.chdir(directory_path)\n",
    "os.getcwd()"
   ]
  },
  {
   "cell_type": "code",
   "execution_count": 3,
   "id": "faf188eb-adff-4e50-b8a3-c5c51d083916",
   "metadata": {},
   "outputs": [],
   "source": [
    "start_notebook = time.time()"
   ]
  },
  {
   "cell_type": "code",
   "execution_count": 4,
   "id": "c4926521-eb24-4c8a-8d65-57d005f921f1",
   "metadata": {},
   "outputs": [],
   "source": [
    "def get_na(df):\n",
    "    qsna=df.shape[0]-df.isnull().sum(axis=0)\n",
    "    qna=df.isnull().sum(axis=0)\n",
    "    ppna=round(100*(df.isnull().sum(axis=0)/df.shape[0]),2)\n",
    "    aux= {'datos sin NAs en q': qsna, 'Na en q': qna ,'Na en %': ppna}\n",
    "    na=pd.DataFrame(data=aux)\n",
    "    return na.sort_values(by='Na en %',ascending=False)"
   ]
  },
  {
   "cell_type": "code",
   "execution_count": null,
   "id": "e2dadc76-4e28-462c-8130-5a0c407530c0",
   "metadata": {},
   "outputs": [],
   "source": [
    "# Loading the joined dataset between flights and Airport database\n",
    "path = os.getcwd() + '/data/processed/database.csv'\n",
    "df = pd.read_csv(path, sep=',')\n",
    "\n",
    "# create the variable of number of flights in destiny by date and merge it with the database\n",
    "aux = df.groupby(['fecha_operacion'])['Ori-O'].count().reset_index().sort_values(by='Ori-O')\n",
    "aux.rename(columns={'Ori-O':'NVuelos-Ori-O'}, inplace=True)\n",
    "df = pd.merge(df, aux, on = ['fecha_operacion'], how='left')\n",
    "\n",
    "# create the variable of number of flights in operated destiny by date of operation and airline who operated it\n",
    "aux = df.groupby(['fecha_operacion','Emp-O','Des-O'])['Ori-O'].count().reset_index().sort_values(by='Ori-O')\n",
    "aux.rename(columns={'Ori-O':'Nvuelos-Fecha-Emp-Des-O'}, inplace=True)\n",
    "df = pd.merge(df, aux, on = ['fecha_operacion','Emp-O','Des-O'], how='left')\n",
    "\n",
    "# create the variable of number of flights in destiny scheduled by date scheduled and airline scheduled\n",
    "aux = df.groupby(['fecha_operacion','Emp-I','Des-I'])['Ori-I'].count().reset_index().sort_values(by='Ori-O')\n",
    "aux.rename(columns={'Ori-I':'Nvuelos-Fecha-Emp-Des-I'}, inplace=True)\n",
    "df = pd.merge(df, aux, on = ['fecha_operacion','Emp-I','Des-I'], how='left')\n",
    "\n",
    "\n",
    "\n",
    "\n",
    "df.drop(columns=['Fecha-O','Fecha-I','AÑO','Des-I','Vlo-I','Vlo-O','Ori-O','Ori-I','IATA Code','Airport Name',\n",
    "                 'Country','City/Town','ICAO Code','SIGLADES','SIGLAORI','Lat','Long','distance_to_destiny',\n",
    "                 'OPERA','Emp-I','dif_min','temporada_alta'],inplace=True)\n",
    "print(df.shape)\n",
    "df.head(2)"
   ]
  },
  {
   "cell_type": "code",
   "execution_count": null,
   "id": "be84f0b7-b113-4f5e-b766-089264785df7",
   "metadata": {},
   "outputs": [],
   "source": [
    "get_na(df)"
   ]
  },
  {
   "cell_type": "code",
   "execution_count": null,
   "id": "a43b23a6-1f38-4786-b125-d21615640c3d",
   "metadata": {},
   "outputs": [],
   "source": [
    "transformer = make_column_transformer(\n",
    "    (OneHotEncoder(drop='first',sparse=False), ['Des-O','Emp-O','TIPOVUELO','periodo_dia','DIANOM','MES','DIA']),\n",
    "    remainder='passthrough')\n",
    "\n",
    "transformed = transformer.fit_transform(df)\n",
    "transformed_df = pd.DataFrame(\n",
    "    transformed, \n",
    "    columns=transformer.get_feature_names()\n",
    ")\n",
    "transformed_df.head()"
   ]
  },
  {
   "cell_type": "code",
   "execution_count": null,
   "id": "fb13a259-1b60-4a71-af02-efd58cb86d3f",
   "metadata": {},
   "outputs": [],
   "source": [
    "path = os.getcwd() + '/data/interim/model_data.csv' \n",
    "transformed_df.to_csv(path,\n",
    "          sep=',',\n",
    "          index = False\n",
    "         )"
   ]
  },
  {
   "cell_type": "markdown",
   "id": "c0451758-8ccb-4d47-ba79-97f685d45730",
   "metadata": {},
   "source": [
    "## MCA\n",
    "\n",
    "I will perform"
   ]
  },
  {
   "cell_type": "code",
   "execution_count": null,
   "id": "12cccbec-36b7-4b85-889f-f1d152368ba2",
   "metadata": {},
   "outputs": [],
   "source": [
    "# Loading the joined dataset between flights and Airport database\n",
    "path = os.getcwd() + '/data/processed/database.csv'\n",
    "df = pd.read_csv(path, sep=',')\n",
    "df.drop(columns=['Fecha-O','Fecha-I','AÑO','Des-I','Vlo-I','Vlo-O','Ori-O','Ori-I','IATA Code','Airport Name',\n",
    "                 'Country','City/Town','ICAO Code','SIGLADES','SIGLAORI','Lat','Long','distance_to_destiny',\n",
    "                 'OPERA','Emp-I','dif_min','temporada_alta','atraso_15'],inplace=True)\n",
    "print(df.shape)\n",
    "df.head(2)"
   ]
  },
  {
   "cell_type": "code",
   "execution_count": null,
   "id": "671265d2-604e-4bed-a5d2-b516cb14fa82",
   "metadata": {},
   "outputs": [],
   "source": [
    "results = []\n",
    "n = []\n",
    "for n_comp in range(0,100):\n",
    "    model = mca.MCA(\n",
    "        n_components=n_comp,\n",
    "        n_iter=100,\n",
    "        copy=True,\n",
    "        check_input=True,\n",
    "        engine='auto',\n",
    "        random_state=42\n",
    "    )\n",
    "    mca_data = model.fit(df)\n",
    "    mca_x = mca_data.transform(df)\n",
    "    results.append(model.total_inertia_)\n",
    "    n.append(n_comp)"
   ]
  },
  {
   "cell_type": "code",
   "execution_count": null,
   "id": "4bbbfdac-00a0-431d-899a-400903eb8f05",
   "metadata": {},
   "outputs": [],
   "source": [
    "plt.plot(n,results);"
   ]
  },
  {
   "cell_type": "code",
   "execution_count": null,
   "id": "4ad08c73-cb0d-47b1-b567-8323e6ef07f3",
   "metadata": {},
   "outputs": [],
   "source": [
    "model = mca.MCA(\n",
    "    n_components=20,\n",
    "    n_iter=100,\n",
    "    copy=True,\n",
    "    check_input=True,\n",
    "    engine='auto',\n",
    "    random_state=42\n",
    ")"
   ]
  },
  {
   "cell_type": "code",
   "execution_count": null,
   "id": "f0c3f9bf-5f77-4787-9406-ed2022b62eea",
   "metadata": {},
   "outputs": [],
   "source": [
    "mca_data = model.fit(df)\n",
    "mca_x = mca_data.transform(df)"
   ]
  },
  {
   "cell_type": "code",
   "execution_count": null,
   "id": "82f21a32-d09d-4ead-b7f9-b916142081c8",
   "metadata": {},
   "outputs": [],
   "source": [
    "path = os.getcwd() + '/data/interim/model_data_mca.csv' \n",
    "mca_x.to_csv(path,\n",
    "          sep=',',\n",
    "          index = False\n",
    "         )"
   ]
  }
 ],
 "metadata": {
  "kernelspec": {
   "display_name": "Python 3 (ipykernel)",
   "language": "python",
   "name": "python3"
  },
  "language_info": {
   "codemirror_mode": {
    "name": "ipython",
    "version": 3
   },
   "file_extension": ".py",
   "mimetype": "text/x-python",
   "name": "python",
   "nbconvert_exporter": "python",
   "pygments_lexer": "ipython3",
   "version": "3.10.8"
  }
 },
 "nbformat": 4,
 "nbformat_minor": 5
}
