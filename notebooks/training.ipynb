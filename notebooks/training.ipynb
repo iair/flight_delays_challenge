{
 "cells": [
  {
   "cell_type": "code",
   "execution_count": 1,
   "id": "76a87452-779f-49c8-9947-358d8d4d9bae",
   "metadata": {},
   "outputs": [],
   "source": [
    "import os\n",
    "import sys\n",
    "import warnings\n",
    "warnings.filterwarnings('ignore')\n",
    "# evaluate an xgboost regression model on the housing dataset\n",
    "import numpy as np\n",
    "import pandas as pd\n",
    "from sklearn.ensemble import RandomForestRegressor,GradientBoostingRegressor,RandomForestClassifier,GradientBoostingClassifier\n",
    "from sklearn.tree import DecisionTreeClassifier\n",
    "from sklearn.metrics import mean_absolute_error, mean_squared_error\n",
    "from sklearn.model_selection import GridSearchCV, train_test_split, cross_val_score,cross_validate,KFold\n",
    "from xgboost import XGBRegressor,XGBClassifier\n",
    "# libraries for visualization\n",
    "import matplotlib.pyplot as plt\n",
    "%matplotlib inline\n",
    "import seaborn as sns\n",
    "sns.set_theme(style=\"white\")\n",
    "# library to save the money\n",
    "import joblib"
   ]
  },
  {
   "cell_type": "code",
   "execution_count": 5,
   "id": "68ea0947-f69d-43ff-8ba6-53d99fd7ad93",
   "metadata": {},
   "outputs": [],
   "source": [
    "def get_na(df):\n",
    "    qsna=df.shape[0]-df.isnull().sum(axis=0)\n",
    "    qna=df.isnull().sum(axis=0)\n",
    "    ppna=round(100*(df.isnull().sum(axis=0)/df.shape[0]),2)\n",
    "    aux= {'datos sin NAs en q': qsna, 'Na en q': qna ,'Na en %': ppna}\n",
    "    na=pd.DataFrame(data=aux)\n",
    "    return na.sort_values(by='Na en %',ascending=False)"
   ]
  },
  {
   "cell_type": "code",
   "execution_count": 2,
   "id": "1e87f5d2-cc73-4e03-a77f-b7514b9859fc",
   "metadata": {},
   "outputs": [
    {
     "data": {
      "text/plain": [
       "'/Users/iairlinker/Documents/repos/flight_delays_challenge'"
      ]
     },
     "execution_count": 2,
     "metadata": {},
     "output_type": "execute_result"
    }
   ],
   "source": [
    "directory_path = os.path.abspath(os.path.join('..'))\n",
    "if directory_path not in sys.path:\n",
    "    sys.path.append(directory_path)\n",
    "os.chdir(directory_path)\n",
    "os.getcwd()"
   ]
  },
  {
   "cell_type": "code",
   "execution_count": 6,
   "id": "def3dad8-ce0d-4721-993a-5ed48fd7030a",
   "metadata": {},
   "outputs": [
    {
     "data": {
      "text/html": [
       "<div>\n",
       "<style scoped>\n",
       "    .dataframe tbody tr th:only-of-type {\n",
       "        vertical-align: middle;\n",
       "    }\n",
       "\n",
       "    .dataframe tbody tr th {\n",
       "        vertical-align: top;\n",
       "    }\n",
       "\n",
       "    .dataframe thead th {\n",
       "        text-align: right;\n",
       "    }\n",
       "</style>\n",
       "<table border=\"1\" class=\"dataframe\">\n",
       "  <thead>\n",
       "    <tr style=\"text-align: right;\">\n",
       "      <th></th>\n",
       "      <th>datos sin NAs en q</th>\n",
       "      <th>Na en q</th>\n",
       "      <th>Na en %</th>\n",
       "    </tr>\n",
       "  </thead>\n",
       "  <tbody>\n",
       "    <tr>\n",
       "      <th>onehotencoder__x0_1</th>\n",
       "      <td>68206</td>\n",
       "      <td>0</td>\n",
       "      <td>0.0</td>\n",
       "    </tr>\n",
       "    <tr>\n",
       "      <th>onehotencoder__x1_EGLL</th>\n",
       "      <td>68206</td>\n",
       "      <td>0</td>\n",
       "      <td>0.0</td>\n",
       "    </tr>\n",
       "    <tr>\n",
       "      <th>onehotencoder__x2_TPU</th>\n",
       "      <td>68206</td>\n",
       "      <td>0</td>\n",
       "      <td>0.0</td>\n",
       "    </tr>\n",
       "    <tr>\n",
       "      <th>onehotencoder__x2_UAL</th>\n",
       "      <td>68206</td>\n",
       "      <td>0</td>\n",
       "      <td>0.0</td>\n",
       "    </tr>\n",
       "    <tr>\n",
       "      <th>onehotencoder__x3_N</th>\n",
       "      <td>68206</td>\n",
       "      <td>0</td>\n",
       "      <td>0.0</td>\n",
       "    </tr>\n",
       "    <tr>\n",
       "      <th>...</th>\n",
       "      <td>...</td>\n",
       "      <td>...</td>\n",
       "      <td>...</td>\n",
       "    </tr>\n",
       "    <tr>\n",
       "      <th>onehotencoder__x1_SCTE</th>\n",
       "      <td>68206</td>\n",
       "      <td>0</td>\n",
       "      <td>0.0</td>\n",
       "    </tr>\n",
       "    <tr>\n",
       "      <th>onehotencoder__x1_SCVD</th>\n",
       "      <td>68206</td>\n",
       "      <td>0</td>\n",
       "      <td>0.0</td>\n",
       "    </tr>\n",
       "    <tr>\n",
       "      <th>onehotencoder__x1_SEGU</th>\n",
       "      <td>68206</td>\n",
       "      <td>0</td>\n",
       "      <td>0.0</td>\n",
       "    </tr>\n",
       "    <tr>\n",
       "      <th>onehotencoder__x1_SEQM</th>\n",
       "      <td>68206</td>\n",
       "      <td>0</td>\n",
       "      <td>0.0</td>\n",
       "    </tr>\n",
       "    <tr>\n",
       "      <th>onehotencoder__x7_31</th>\n",
       "      <td>68206</td>\n",
       "      <td>0</td>\n",
       "      <td>0.0</td>\n",
       "    </tr>\n",
       "  </tbody>\n",
       "</table>\n",
       "<p>144 rows × 3 columns</p>\n",
       "</div>"
      ],
      "text/plain": [
       "                        datos sin NAs en q  Na en q  Na en %\n",
       "onehotencoder__x0_1                  68206        0      0.0\n",
       "onehotencoder__x1_EGLL               68206        0      0.0\n",
       "onehotencoder__x2_TPU                68206        0      0.0\n",
       "onehotencoder__x2_UAL                68206        0      0.0\n",
       "onehotencoder__x3_N                  68206        0      0.0\n",
       "...                                    ...      ...      ...\n",
       "onehotencoder__x1_SCTE               68206        0      0.0\n",
       "onehotencoder__x1_SCVD               68206        0      0.0\n",
       "onehotencoder__x1_SEGU               68206        0      0.0\n",
       "onehotencoder__x1_SEQM               68206        0      0.0\n",
       "onehotencoder__x7_31                 68206        0      0.0\n",
       "\n",
       "[144 rows x 3 columns]"
      ]
     },
     "execution_count": 6,
     "metadata": {},
     "output_type": "execute_result"
    }
   ],
   "source": [
    "# Loading pre-processed dataset\n",
    "path = os.getcwd() + '/data/interim/model_data.csv' \n",
    "df = pd.read_csv(path, sep=',')\n",
    "X = df.copy()\n",
    "y = X.atraso_15\n",
    "X.drop('atraso_15', axis=1, inplace=True)\n",
    "get_na(X)"
   ]
  },
  {
   "cell_type": "code",
   "execution_count": 7,
   "id": "7057fcba-1fbc-4ce8-bf38-667ddbeba77b",
   "metadata": {},
   "outputs": [
    {
     "data": {
      "image/png": "[encoded data removed]",
      "text/plain": [
       "<Figure size 640x480 with 1 Axes>"
      ]
     },
     "metadata": {},
     "output_type": "display_data"
    }
   ],
   "source": [
    "# Split the data\n",
    "X_train, X_test, y_train, y_test = train_test_split(X, y, test_size=0.3, random_state=100)\n",
    "#define data\n",
    "data = [X_train.shape[0],X_test.shape[0] ]\n",
    "labels = [data[0], data[1]]\n",
    "#define Seaborn color palette to use\n",
    "colors = sns.color_palette('bright')[0:2]\n",
    "#create pie chart\n",
    "plt.pie(data, labels = labels, colors = colors,startangle=90, \n",
    "        autopct='%1.f%%',explode=(0.1,0.1))\n",
    "plt.show()"
   ]
  },
  {
   "cell_type": "code",
   "execution_count": null,
   "id": "c1a21828-d3bc-48f9-9e89-fa20c8d594e6",
   "metadata": {},
   "outputs": [],
   "source": []
  }
 ],
 "metadata": {
  "kernelspec": {
   "display_name": "Python 3 (ipykernel)",
   "language": "python",
   "name": "python3"
  },
  "language_info": {
   "codemirror_mode": {
    "name": "ipython",
    "version": 3
   },
   "file_extension": ".py",
   "mimetype": "text/x-python",
   "name": "python",
   "nbconvert_exporter": "python",
   "pygments_lexer": "ipython3",
   "version": "3.10.8"
  }
 },
 "nbformat": 4,
 "nbformat_minor": 5
}
